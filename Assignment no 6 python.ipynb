{
 "cells": [
  {
   "cell_type": "code",
   "execution_count": 1,
   "metadata": {},
   "outputs": [
    {
     "name": "stdout",
     "output_type": "stream",
     "text": [
      "Corolla Toyota 2012 Red 2\n",
      "Optra is stopped.\n",
      "Accord is now being driven.\n"
     ]
    }
   ],
   "source": [
    "# Question 5: \n",
    "class Car:\n",
    "    def __init__(self, name, brand, model, color, doors):\n",
    "        self.name = name\n",
    "        self.brand = brand\n",
    "        self.model = model\n",
    "        self.color =  color\n",
    "        self.doors = doors\n",
    "    def printCar(self):\n",
    "        print(self.name,self.brand, self.model, self.color, self.doors)\n",
    "    def drive(self):\n",
    "        print(self.name, \"is now being driven.\")\n",
    "    def stop(self):\n",
    "        print(self.name, \"is stopped.\")\n",
    "car1 = Car(\"WagonR\", \"Suzuki\", \"2016\", \"White\", 4)\n",
    "car2 = Car(\"Lamborghini\", \"Lambo\", \"2010\", \"Blue\", 2)\n",
    "car3 = Car(\"Accord\", \"Honda\", \"2012\", \"Black\", 4)\n",
    "car4 = Car(\"Corolla\", \"Toyota\", \"2012\", \"Red\", 2)\n",
    "car5 = Car(\"Optra\", \"Chevrole\", \"2010\", \"Gray\", 2)\n",
    "car4.printCar()\n",
    "car5.stop()\n",
    "car3.drive()"
   ]
  },
  {
   "cell_type": "markdown",
   "metadata": {},
   "source": [
    "# Question 1: Define Object Oriented Programming Language?\n",
    "\n",
    "#Ans- Object-oriented Programming, or OOP for short, is a programming paradigm which provides a means of structuring programs so that properties and behaviors are bundled into individual objects.\n",
    "\n",
    "# Question 2: List down the Benefits of OOP?\n",
    "Ans-\n",
    "\n",
    "Re-usability: It means reusing some facilities rather than building it again and again. This is done with the use of a class. We can use it ‘n’ number of times as per our need.\n",
    "Code Maintenance This feature is more of a necessity for any programming languages, it helps users from doing re-work in many ways. It is always easy and time-saving to maintain and modify the existing codes with incorporating new changes into it.\n",
    "\n",
    "Security With the use of data hiding and abstraction mechanism, we are filtering out limited data to exposure which means we are maintaining security and providing necessary data to view.\n",
    "\n",
    "Design Benefits If you are practicing on OOPs the design benefit a user will get is in terms of designing and fixing things easily and eliminating the risks (if any). Here the Object Oriented Programs forces the designers to have a longer and extensive design phase, which results in better designs and fewer flaws. After a time when the program has reached some critical limits, it is easier to program all the non-OOP’s one separately.\n",
    "\n",
    "Better productivity with the above-mentioned facts of using the application definitely enhances its users overall productivity. This leads to more work done, finish a better program, having more inbuilt features and easier to read, write and maintain. An OOP programmer cans stitch new software objects to make completely new programs. A good number of libraries with useful functions in abundance make it possible.\n",
    "\n",
    " # Question 3: Differentiate between function and method?\n",
    "\n",
    "Ans- Function: A function is a block of code to carry out a specific task, will contain its own scope and is called by name. All functions may contain zero(no) arguments or more than one arguments. On exit, a function can or can not return one or more values.\n",
    "\n",
    "Method: A method in python is somewhat similar to a function, except it is associated with object/classes. Methods in python are very similar to functions except for two major differences.\n",
    "\n",
    "The method is implicitly used for an object for which it is called.\n",
    "\n",
    "The method is accessible to data that is contained within the class.\n",
    "\n",
    "# Question 4: Define the following terms:\n",
    "Class\n",
    "Object\n",
    "Attribute\n",
    "Behavior\n",
    "\n",
    "Class: The class can be defined as a collection of objects. It is a logical entity that has some specific attributes and methods. For example: if you have an employee class then it should contain an attribute and method, i.e. an email id, name, age, salary, etc.\n",
    "\n",
    "Object: The object is an entity that has state and behavior. It may be any real-world object like the mouse, keyboard, chair, table, pen, etc. Everything in Python is an object, and almost everything has attributes and methods. All functions have a built-in attribute doc, which returns the doc string defined in the function source code.\n",
    "\n",
    "Attribute: An attribute is a named property of a class. It has a type. It describes the range of values that the property may hold.\n",
    "\n",
    "Behavior: Behaviors are actions that can occur on an object."
   ]
  }
 ],
 "metadata": {
  "kernelspec": {
   "display_name": "Python 3",
   "language": "python",
   "name": "python3"
  },
  "language_info": {
   "codemirror_mode": {
    "name": "ipython",
    "version": 3
   },
   "file_extension": ".py",
   "mimetype": "text/x-python",
   "name": "python",
   "nbconvert_exporter": "python",
   "pygments_lexer": "ipython3",
   "version": "3.7.4"
  }
 },
 "nbformat": 4,
 "nbformat_minor": 2
}

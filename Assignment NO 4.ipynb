{
 "cells": [
  {
   "cell_type": "code",
   "execution_count": 1,
   "metadata": {},
   "outputs": [
    {
     "name": "stdout",
     "output_type": "stream",
     "text": [
      "The City's Name:  Karachi\n",
      "The Information:  {'Population': '14.91 million', 'Fact': 'Largest city of Pakistan', 'Country': 'Pakistan'} \n",
      "\n",
      "The City's Name:  Paris\n",
      "The Information:  {'Population': '2.141 million', 'Fact': 'city of Love', 'Country': 'French'} \n",
      "\n",
      "The City's Name:  Moscow\n",
      "The Information:  {'Population': '11.92 million', 'Fact': 'Unconquered City', 'Country': 'Russia'} \n",
      "\n"
     ]
    }
   ],
   "source": [
    "#Question 3 \n",
    "cities = {\n",
    "    \"Karachi\": {\n",
    "        \"Population\": \"14.91 million\",\n",
    "        \"Fact\": \"Largest city of Pakistan\",\n",
    "        \"Country\": \"Pakistan\"\n",
    "    },\n",
    "    \"Paris\": {\n",
    "        \"Population\": \"2.141 million\",\n",
    "        \"Fact\": \"city of Love\",\n",
    "        \"Country\": \"French\"\n",
    "    },\n",
    "    \"Moscow\": {\n",
    "        \"Population\": \"11.92 million\",\n",
    "        \"Fact\": \"Unconquered City\",\n",
    "        \"Country\": \"Russia\"\n",
    "    }\n",
    "}\n",
    "for key,value in cities.items():\n",
    "    print(\"The City's Name: \",key)\n",
    "    print(\"The Information: \",value,\"\\n\")"
   ]
  },
  {
   "cell_type": "code",
   "execution_count": 2,
   "metadata": {},
   "outputs": [
    {
     "name": "stdout",
     "output_type": "stream",
     "text": [
      "Tell your Age: 45\n",
      "Your ticket's is $15\n",
      "Do you want to Continue Press y for Yes & Press any keys for exit: no\n",
      "Program is Terminate\n"
     ]
    }
   ],
   "source": [
    "#Question 2\n",
    "repeat = 'y'\n",
    "while repeat == 'y':\n",
    "    age = int(input(\"Tell your Age: \"))\n",
    "    if age < 3:\n",
    "        print(\"Your ticket's price is Free\")\n",
    "    elif age >= 3 and age <= 12:\n",
    "        print(\"Your ticket's price is $10\")\n",
    "    elif age > 12:\n",
    "        print(\"Your ticket's is $15\")\n",
    "    else:\n",
    "        print(\"Invalid Input\")\n",
    "    repeat = input(\"Do you want to Continue Press y for Yes & Press any keys for exit: \")\n",
    "    if repeat != 'y':\n",
    "        print(\"Program is Terminate\")\n",
    "        "
   ]
  },
  {
   "cell_type": "code",
   "execution_count": 4,
   "metadata": {},
   "outputs": [
    {
     "name": "stdout",
     "output_type": "stream",
     "text": [
      "Original Dictionary\n",
      "\n",
      "{'first_name': 'faraz', 'last_name': 'baig', 'age': 25, 'city': 'Karachi'} \n",
      "\n",
      "\n",
      "Enter your Qualification: bechlor\n",
      "\n",
      "Dictionary after add new key\n",
      "\n",
      "\n",
      " {'first_name': 'faraz', 'last_name': 'baig', 'age': 25, 'city': 'Karachi', 'Qualification': 'bechlor'}\n",
      "\n",
      "Enter your Higher Academic Level: telecom\n",
      "\n",
      "Dictionary after update\n",
      "\n",
      "\n",
      " {'first_name': 'faraz', 'last_name': 'baig', 'age': 25, 'city': 'Karachi', 'Qualification': 'telecom'}\n",
      "\n",
      "Dictionary after delete\n",
      "\n",
      "\n",
      " {'first_name': 'faraz', 'last_name': 'baig', 'age': 25, 'city': 'Karachi'}\n"
     ]
    }
   ],
   "source": [
    "#Question 5\n",
    "print(\"Original Dictionary\\n\")\n",
    "person = {\n",
    "    \"first_name\": \"faraz\",\n",
    "    \"last_name\": \"baig\",\n",
    "    \"age\": 25,\n",
    "    \"city\": \"Karachi\"\n",
    "}\n",
    "print(person,\"\\n\")\n",
    "add = input(\"\\nEnter your Qualification: \")\n",
    "person[\"Qualification\"] = add\n",
    "print(\"\\nDictionary after add new key\\n\")\n",
    "print(\"\\n\",person)\n",
    "update = input(\"\\nEnter your Higher Academic Level: \")\n",
    "person[\"Qualification\"] = update\n",
    "print(\"\\nDictionary after update\\n\")\n",
    "print(\"\\n\",person)\n",
    "del person[\"Qualification\"]\n",
    "print(\"\\nDictionary after delete\\n\")\n",
    "print(\"\\n\",person)"
   ]
  },
  {
   "cell_type": "code",
   "execution_count": 5,
   "metadata": {},
   "outputs": [
    {
     "name": "stdout",
     "output_type": "stream",
     "text": [
      "Enter the Book's titlefarazvk\n",
      "One of my favorite books is  farazvk\n"
     ]
    }
   ],
   "source": [
    "#Question 1\n",
    "def favorite_book(book):\n",
    "    print(\"One of my favorite books is \",book)\n",
    "book = input(\"Enter the Book's title\")\n",
    "favorite_book(book)\n"
   ]
  },
  {
   "cell_type": "code",
   "execution_count": null,
   "metadata": {},
   "outputs": [],
   "source": []
  }
 ],
 "metadata": {
  "kernelspec": {
   "display_name": "Python 3",
   "language": "python",
   "name": "python3"
  },
  "language_info": {
   "codemirror_mode": {
    "name": "ipython",
    "version": 3
   },
   "file_extension": ".py",
   "mimetype": "text/x-python",
   "name": "python",
   "nbconvert_exporter": "python",
   "pygments_lexer": "ipython3",
   "version": "3.7.4"
  }
 },
 "nbformat": 4,
 "nbformat_minor": 2
}
